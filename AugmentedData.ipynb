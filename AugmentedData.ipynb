{
 "cells": [
  {
   "cell_type": "markdown",
   "metadata": {},
   "source": [
    "### Augmented Data"
   ]
  },
  {
   "cell_type": "code",
   "execution_count": 10,
   "metadata": {},
   "outputs": [],
   "source": [
    "train_data_path = './DataAugmentedOrigin/train'\n",
    "labels = ['Cam thao', 'Cay bac ha', 'Cay luu ly', 'Cay mac co', 'Cay ma de', 'Co thom', 'Dinh huong', 'Dong trung ha thao', 'Hat de ngua', 'Hoa dau biec', 'Ich mau', 'Ngai cuu', 'Nha dam', 'Toi', 'Trinh nu hoang cung', 'Y di']"
   ]
  },
  {
   "cell_type": "code",
   "execution_count": 11,
   "metadata": {},
   "outputs": [
    {
     "name": "stderr",
     "output_type": "stream",
     "text": [
      "C:\\Users\\Asus\\AppData\\Local\\Temp\\ipykernel_10692\\235263304.py:51: VisibleDeprecationWarning: Creating an ndarray from ragged nested sequences (which is a list-or-tuple of lists-or-tuples-or ndarrays with different lengths or shapes) is deprecated. If you meant to do this, you must specify 'dtype=object' when creating the ndarray.\n",
      "  return np.array(train_images), np.array(train_labels)\n"
     ]
    }
   ],
   "source": [
    "import os\n",
    "from glob import glob\n",
    "import numpy as np\n",
    "from PIL import Image\n",
    "import cv2\n",
    "from scipy.ndimage import rotate\n",
    "\n",
    "def augment_train_data(train_data_path, labels):\n",
    "    for label in labels:\n",
    "        label_path = os.path.join(train_data_path, label)\n",
    "        image_paths = glob(os.path.join(label_path, '*'))\n",
    "        \n",
    "        for image_path in image_paths:\n",
    "            img = Image.open(image_path)\n",
    "            \n",
    "            # Thực hiện data augmentation\n",
    "            original_image = np.array(img)\n",
    "            rotated_image_90 = cv2.rotate(original_image, cv2.ROTATE_90_CLOCKWISE)\n",
    "            rotated_image_45 = rotate(original_image, 45, reshape=False)\n",
    "            flipped_image = cv2.flip(original_image, 1)\n",
    "            \n",
    "            # Lưu các ảnh đã tăng cường\n",
    "            save_augmented_image(image_path, 'rotated_90', rotated_image_90)\n",
    "            save_augmented_image(image_path, 'rotated_45', rotated_image_45.astype(np.uint8))\n",
    "            save_augmented_image(image_path, 'flipped', flipped_image)\n",
    "    \n",
    "    # Tạo và trả về dữ liệu ảnh và nhãn\n",
    "    train_images, train_labels = create_dataset(train_data_path, labels)\n",
    "    return train_images, train_labels\n",
    "\n",
    "def save_augmented_image(image_path, suffix, image_data):\n",
    "    folder, filename = os.path.split(image_path)\n",
    "    name, ext = os.path.splitext(filename)\n",
    "    new_filename = f\"{name}_{suffix}{ext}\"\n",
    "    new_path = os.path.join(folder, new_filename)\n",
    "    Image.fromarray(image_data.astype(np.uint8)).save(new_path)\n",
    "\n",
    "def create_dataset(train_data_path, labels):\n",
    "    train_images = []\n",
    "    train_labels = []\n",
    "    \n",
    "    for label in labels:\n",
    "        label_path = os.path.join(train_data_path, label, '*')\n",
    "        image_paths = glob(label_path)\n",
    "        \n",
    "        for image_path in image_paths:\n",
    "            img = Image.open(image_path)\n",
    "            train_images.append(np.array(img))\n",
    "            train_labels.append(labels.index(label))\n",
    "    \n",
    "    return np.array(train_images), np.array(train_labels)\n",
    "  \n",
    "train_images, train_labels = augment_train_data(train_data_path, labels)\n"
   ]
  }
 ],
 "metadata": {
  "kernelspec": {
   "display_name": "Python 3",
   "language": "python",
   "name": "python3"
  },
  "language_info": {
   "codemirror_mode": {
    "name": "ipython",
    "version": 3
   },
   "file_extension": ".py",
   "mimetype": "text/x-python",
   "name": "python",
   "nbconvert_exporter": "python",
   "pygments_lexer": "ipython3",
   "version": "3.9.0"
  }
 },
 "nbformat": 4,
 "nbformat_minor": 2
}
